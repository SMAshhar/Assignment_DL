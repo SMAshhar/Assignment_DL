{
  "nbformat": 4,
  "nbformat_minor": 0,
  "metadata": {
    "kernelspec": {
      "name": "python390jvsc74a57bd04657b0f8676137db8f77784ecc505075a6d6f547c0bf96eb839d3f8b887897c4",
      "display_name": "Python 3.9.0 64-bit"
    },
    "language_info": {
      "codemirror_mode": {
        "name": "ipython",
        "version": 3
      },
      "file_extension": ".py",
      "mimetype": "text/x-python",
      "name": "python",
      "nbconvert_exporter": "python",
      "pygments_lexer": "ipython3",
      "version": "3.9.0-final"
    },
    "colab": {
      "name": "Concrete Strength Assignment.ipynb",
      "provenance": [],
      "collapsed_sections": []
    }
  },
  "cells": [
    {
      "cell_type": "markdown",
      "metadata": {
        "id": "S_sjhfl1FLsO"
      },
      "source": [
        "# Assignment: Compresive Strength Concrete Problem\n",
        "\n",
        "\n",
        "### Abstract: \n",
        "\n",
        "Concrete is the most important material in civil engineering. The concrete compressive strength (concrete strength to bear the load) is a highly nonlinear function of age and ingredients.  <br><br>\n",
        "\n",
        "<table border=\"1\"  cellpadding=\"6\" bordercolor=\"red\">\n",
        "\t<tbody>\n",
        "        <tr>\n",
        "\t\t<td bgcolor=\"#DDEEFF\"><p class=\"normal\"><b>Data Set Characteristics:&nbsp;&nbsp;</b></p></td>\n",
        "\t\t<td><p class=\"normal\">Multivariate</p></td>\n",
        "\t\t<td bgcolor=\"#DDEEFF\"><p class=\"normal\"><b>Number of Instances:</b></p></td>\n",
        "\t\t<td><p class=\"normal\">1030</p></td>\n",
        "\t\t<td bgcolor=\"#DDEEFF\"><p class=\"normal\"><b>Area:</b></p></td>\n",
        "\t\t<td><p class=\"normal\">Physical</p></td>\n",
        "        </tr>\n",
        "     </tbody>\n",
        "    </table>\n",
        "<table border=\"1\" cellpadding=\"6\">\n",
        "    <tbody>\n",
        "        <tr>\n",
        "            <td bgcolor=\"#DDEEFF\"><p class=\"normal\"><b>Attribute Characteristics:</b></p></td>\n",
        "            <td><p class=\"normal\">Real</p></td>\n",
        "            <td bgcolor=\"#DDEEFF\"><p class=\"normal\"><b>Number of Attributes:</b></p></td>\n",
        "            <td><p class=\"normal\">9</p></td>\n",
        "            <td bgcolor=\"#DDEEFF\"><p class=\"normal\"><b>Date Donated</b></p></td>\n",
        "            <td><p class=\"normal\">2007-08-03</p></td>\n",
        "        </tr>\n",
        "     </tbody>\n",
        "    </table>\n",
        "<table border=\"1\" cellpadding=\"6\">\t\n",
        "    <tbody>\n",
        "    <tr>\n",
        "\t\t<td bgcolor=\"#DDEEFF\"><p class=\"normal\"><b>Associated Tasks:</b></p></td>\n",
        "\t\t<td><p class=\"normal\">Regression</p></td>\n",
        "\t\t<td bgcolor=\"#DDEEFF\"><p class=\"normal\"><b>Missing Values?</b></p></td>\n",
        "\t\t<td><p class=\"normal\">N/A</p></td>\n",
        "\t\t<td bgcolor=\"#DDEEFF\"><p class=\"normal\"><b>Number of Web Hits:</b></p></td>\n",
        "\t\t<td><p class=\"normal\">231464</p></td>\n",
        "\t</tr>\n",
        "    </tbody>\n",
        "    </table>"
      ]
    },
    {
      "cell_type": "markdown",
      "metadata": {
        "id": "h5rLRI93FLsT"
      },
      "source": [
        "###  Description:\n",
        "| Features Name | Data Type | Measurement | Description |\n",
        "| -- | -- | -- | -- |\n",
        "Cement (component 1) | quantitative | kg in a m3 mixture | Input Variable\n",
        "Blast Furnace Slag (component 2) | quantitative | kg in a m3 mixture | Input Variable\n",
        "Fly Ash (component 3) | quantitative | kg in a m3 mixture | Input Variable\n",
        "Water (component 4) | quantitative | kg in a m3 mixture | Input Variable\n",
        "Superplasticizer (component 5) | quantitative | kg in a m3 mixture | Input Variable\n",
        "Coarse Aggregate (component 6) | quantitative | kg in a m3 mixture | Input Variable\n",
        "Fine Aggregate (component 7) | quantitative | kg in a m3 mixture | Input Variable\n",
        "Age | quantitative | Day (1~365) | Input Variable\n",
        "Concrete compressive strength | quantitative | MPa | Output Variable\n",
        "\n",
        "### WORKFLOW :\n",
        "- Load Data\n",
        "- Check Missing Values ( If Exist ; Fill each record with mean of its feature )\n",
        "- Standardized the Input Variables. **Hint**: Centeralized the data\n",
        "- Split into 50% Training(Samples,Labels) , 30% Test(Samples,Labels) and 20% Validation Data(Samples,Labels).\n",
        "- Model : input Layer (No. of features ), 3 hidden layers including 10,8,6 unit & Output Layer with activation function relu/tanh (check by experiment).\n",
        "- Compilation Step (Note : Its a Regression problem , select loss , metrics according to it)\n",
        "- Train the Model with Epochs (100) and validate it\n",
        "- If the model gets overfit tune your model by changing the units , No. of layers , activation function , epochs , add dropout layer or add Regularizer according to the need .\n",
        "- Evaluation Step\n",
        "- Prediction\n"
      ]
    },
    {
      "cell_type": "markdown",
      "metadata": {
        "id": "aATMsLq6FLsU"
      },
      "source": [
        "# Load Data:\n",
        "[Click Here to Download DataSet](https://github.com/ramsha275/ML_Datasets/blob/main/compresive_strength_concrete.csv)"
      ]
    },
    {
      "cell_type": "code",
      "metadata": {
        "colab": {
          "base_uri": "https://localhost:8080/"
        },
        "id": "ro1CmuBbFLsV",
        "outputId": "6025fa01-de3e-44b6-8ae1-3ea8046d3f97"
      },
      "source": [
        "from google.colab import drive\n",
        "drive.mount('/content/drive')"
      ],
      "execution_count": 1,
      "outputs": [
        {
          "output_type": "stream",
          "text": [
            "Mounted at /content/drive\n"
          ],
          "name": "stdout"
        }
      ]
    },
    {
      "cell_type": "code",
      "metadata": {
        "colab": {
          "base_uri": "https://localhost:8080/"
        },
        "id": "TkneETqrIRkh",
        "outputId": "8708971c-ee56-418b-ba68-0bd0cce27068"
      },
      "source": [
        "cd /content/drive/MyDrive/Assignment3_DL"
      ],
      "execution_count": 2,
      "outputs": [
        {
          "output_type": "stream",
          "text": [
            "/content/drive/MyDrive/Assignment3_DL\n"
          ],
          "name": "stdout"
        }
      ]
    },
    {
      "cell_type": "code",
      "metadata": {
        "id": "ez6AwLOIPLuF"
      },
      "source": [
        "import pandas as pd\n",
        "import numpy as np\n",
        "import tensorflow as tf\n",
        "from tensorflow.keras import layers, models, optimizers\n",
        "import matplotlib.pyplot as plt"
      ],
      "execution_count": 2,
      "outputs": []
    },
    {
      "cell_type": "code",
      "metadata": {
        "colab": {
          "base_uri": "https://localhost:8080/"
        },
        "id": "ZR-yuYsTOzjj",
        "outputId": "d03fc110-e5f8-4056-d1cd-410dcd9ebe77"
      },
      "source": [
        "ls"
      ],
      "execution_count": 4,
      "outputs": [
        {
          "output_type": "stream",
          "text": [
            " CarPrice_Assignment.csv\n",
            "'Car Price Prediction assignment.ipynb'\n",
            " compresive_strength_concrete.csv\n",
            "'Concrete Strength Assignment.ipynb'\n",
            " creditcard.csv\n",
            "'Credit Card Fraud Detection assignment.ipynb'\n",
            "'Data Dictionary - carprices.xlsx'\n",
            " \u001b[0m\u001b[01;34mflowers\u001b[0m/\n",
            " Flowers_Recognition.ipynb\n",
            " \u001b[01;34mIonosphere\u001b[0m/\n",
            "'Ionosphere Assignment.ipynb'\n",
            " README.md\n"
          ],
          "name": "stdout"
        }
      ]
    },
    {
      "cell_type": "code",
      "metadata": {
        "colab": {
          "base_uri": "https://localhost:8080/",
          "height": 452
        },
        "id": "KN26ckJ5PIR6",
        "outputId": "4af13975-521c-4307-a40c-a52b3776e4a3"
      },
      "source": [
        "data = pd.read_csv('compresive_strength_concrete.csv')\n",
        "data"
      ],
      "execution_count": 3,
      "outputs": [
        {
          "output_type": "execute_result",
          "data": {
            "text/plain": [
              "      Cement (component 1)(kg in a m^3 mixture)  \\\n",
              "0                                         540.0   \n",
              "1                                         540.0   \n",
              "2                                         332.5   \n",
              "3                                         332.5   \n",
              "4                                         198.6   \n",
              "...                                         ...   \n",
              "1025                                      276.4   \n",
              "1026                                      322.2   \n",
              "1027                                      148.5   \n",
              "1028                                      159.1   \n",
              "1029                                      260.9   \n",
              "\n",
              "      Blast Furnace Slag (component 2)(kg in a m^3 mixture)  \\\n",
              "0                                                   0.0       \n",
              "1                                                   0.0       \n",
              "2                                                 142.5       \n",
              "3                                                 142.5       \n",
              "4                                                 132.4       \n",
              "...                                                 ...       \n",
              "1025                                              116.0       \n",
              "1026                                                0.0       \n",
              "1027                                              139.4       \n",
              "1028                                              186.7       \n",
              "1029                                              100.5       \n",
              "\n",
              "      Fly Ash (component 3)(kg in a m^3 mixture)  \\\n",
              "0                                            0.0   \n",
              "1                                            0.0   \n",
              "2                                            0.0   \n",
              "3                                            0.0   \n",
              "4                                            0.0   \n",
              "...                                          ...   \n",
              "1025                                        90.3   \n",
              "1026                                       115.6   \n",
              "1027                                       108.6   \n",
              "1028                                         0.0   \n",
              "1029                                        78.3   \n",
              "\n",
              "      Water  (component 4)(kg in a m^3 mixture)  \\\n",
              "0                                         162.0   \n",
              "1                                         162.0   \n",
              "2                                         228.0   \n",
              "3                                         228.0   \n",
              "4                                         192.0   \n",
              "...                                         ...   \n",
              "1025                                      179.6   \n",
              "1026                                      196.0   \n",
              "1027                                      192.7   \n",
              "1028                                      175.6   \n",
              "1029                                      200.6   \n",
              "\n",
              "      Superplasticizer (component 5)(kg in a m^3 mixture)  \\\n",
              "0                                                   2.5     \n",
              "1                                                   2.5     \n",
              "2                                                   0.0     \n",
              "3                                                   0.0     \n",
              "4                                                   0.0     \n",
              "...                                                 ...     \n",
              "1025                                                8.9     \n",
              "1026                                               10.4     \n",
              "1027                                                6.1     \n",
              "1028                                               11.3     \n",
              "1029                                                8.6     \n",
              "\n",
              "      Coarse Aggregate  (component 6)(kg in a m^3 mixture)  \\\n",
              "0                                                1040.0      \n",
              "1                                                1055.0      \n",
              "2                                                 932.0      \n",
              "3                                                 932.0      \n",
              "4                                                 978.4      \n",
              "...                                                 ...      \n",
              "1025                                              870.1      \n",
              "1026                                              817.9      \n",
              "1027                                              892.4      \n",
              "1028                                              989.6      \n",
              "1029                                              864.5      \n",
              "\n",
              "      Fine Aggregate (component 7)(kg in a m^3 mixture)  Age (day)  \\\n",
              "0                                                 676.0         28   \n",
              "1                                                 676.0         28   \n",
              "2                                                 594.0        270   \n",
              "3                                                 594.0        365   \n",
              "4                                                 825.5        360   \n",
              "...                                                 ...        ...   \n",
              "1025                                              768.3         28   \n",
              "1026                                              813.4         28   \n",
              "1027                                              780.0         28   \n",
              "1028                                              788.9         28   \n",
              "1029                                              761.5         28   \n",
              "\n",
              "      Concrete compressive strength(MPa, megapascals)   \n",
              "0                                                79.99  \n",
              "1                                                61.89  \n",
              "2                                                40.27  \n",
              "3                                                41.05  \n",
              "4                                                44.30  \n",
              "...                                                ...  \n",
              "1025                                             44.28  \n",
              "1026                                             31.18  \n",
              "1027                                             23.70  \n",
              "1028                                             32.77  \n",
              "1029                                             32.40  \n",
              "\n",
              "[1030 rows x 9 columns]"
            ],
            "text/html": "<div>\n<style scoped>\n    .dataframe tbody tr th:only-of-type {\n        vertical-align: middle;\n    }\n\n    .dataframe tbody tr th {\n        vertical-align: top;\n    }\n\n    .dataframe thead th {\n        text-align: right;\n    }\n</style>\n<table border=\"1\" class=\"dataframe\">\n  <thead>\n    <tr style=\"text-align: right;\">\n      <th></th>\n      <th>Cement (component 1)(kg in a m^3 mixture)</th>\n      <th>Blast Furnace Slag (component 2)(kg in a m^3 mixture)</th>\n      <th>Fly Ash (component 3)(kg in a m^3 mixture)</th>\n      <th>Water  (component 4)(kg in a m^3 mixture)</th>\n      <th>Superplasticizer (component 5)(kg in a m^3 mixture)</th>\n      <th>Coarse Aggregate  (component 6)(kg in a m^3 mixture)</th>\n      <th>Fine Aggregate (component 7)(kg in a m^3 mixture)</th>\n      <th>Age (day)</th>\n      <th>Concrete compressive strength(MPa, megapascals)</th>\n    </tr>\n  </thead>\n  <tbody>\n    <tr>\n      <th>0</th>\n      <td>540.0</td>\n      <td>0.0</td>\n      <td>0.0</td>\n      <td>162.0</td>\n      <td>2.5</td>\n      <td>1040.0</td>\n      <td>676.0</td>\n      <td>28</td>\n      <td>79.99</td>\n    </tr>\n    <tr>\n      <th>1</th>\n      <td>540.0</td>\n      <td>0.0</td>\n      <td>0.0</td>\n      <td>162.0</td>\n      <td>2.5</td>\n      <td>1055.0</td>\n      <td>676.0</td>\n      <td>28</td>\n      <td>61.89</td>\n    </tr>\n    <tr>\n      <th>2</th>\n      <td>332.5</td>\n      <td>142.5</td>\n      <td>0.0</td>\n      <td>228.0</td>\n      <td>0.0</td>\n      <td>932.0</td>\n      <td>594.0</td>\n      <td>270</td>\n      <td>40.27</td>\n    </tr>\n    <tr>\n      <th>3</th>\n      <td>332.5</td>\n      <td>142.5</td>\n      <td>0.0</td>\n      <td>228.0</td>\n      <td>0.0</td>\n      <td>932.0</td>\n      <td>594.0</td>\n      <td>365</td>\n      <td>41.05</td>\n    </tr>\n    <tr>\n      <th>4</th>\n      <td>198.6</td>\n      <td>132.4</td>\n      <td>0.0</td>\n      <td>192.0</td>\n      <td>0.0</td>\n      <td>978.4</td>\n      <td>825.5</td>\n      <td>360</td>\n      <td>44.30</td>\n    </tr>\n    <tr>\n      <th>...</th>\n      <td>...</td>\n      <td>...</td>\n      <td>...</td>\n      <td>...</td>\n      <td>...</td>\n      <td>...</td>\n      <td>...</td>\n      <td>...</td>\n      <td>...</td>\n    </tr>\n    <tr>\n      <th>1025</th>\n      <td>276.4</td>\n      <td>116.0</td>\n      <td>90.3</td>\n      <td>179.6</td>\n      <td>8.9</td>\n      <td>870.1</td>\n      <td>768.3</td>\n      <td>28</td>\n      <td>44.28</td>\n    </tr>\n    <tr>\n      <th>1026</th>\n      <td>322.2</td>\n      <td>0.0</td>\n      <td>115.6</td>\n      <td>196.0</td>\n      <td>10.4</td>\n      <td>817.9</td>\n      <td>813.4</td>\n      <td>28</td>\n      <td>31.18</td>\n    </tr>\n    <tr>\n      <th>1027</th>\n      <td>148.5</td>\n      <td>139.4</td>\n      <td>108.6</td>\n      <td>192.7</td>\n      <td>6.1</td>\n      <td>892.4</td>\n      <td>780.0</td>\n      <td>28</td>\n      <td>23.70</td>\n    </tr>\n    <tr>\n      <th>1028</th>\n      <td>159.1</td>\n      <td>186.7</td>\n      <td>0.0</td>\n      <td>175.6</td>\n      <td>11.3</td>\n      <td>989.6</td>\n      <td>788.9</td>\n      <td>28</td>\n      <td>32.77</td>\n    </tr>\n    <tr>\n      <th>1029</th>\n      <td>260.9</td>\n      <td>100.5</td>\n      <td>78.3</td>\n      <td>200.6</td>\n      <td>8.6</td>\n      <td>864.5</td>\n      <td>761.5</td>\n      <td>28</td>\n      <td>32.40</td>\n    </tr>\n  </tbody>\n</table>\n<p>1030 rows × 9 columns</p>\n</div>"
          },
          "metadata": {},
          "execution_count": 3
        }
      ]
    },
    {
      "cell_type": "markdown",
      "metadata": {
        "id": "SQ1fmQ22gI4E"
      },
      "source": [
        "## Check Missing Values ( If Exist ; Fill each record with mean of its feature )"
      ]
    },
    {
      "cell_type": "code",
      "metadata": {
        "colab": {
          "base_uri": "https://localhost:8080/"
        },
        "id": "afbcNIykUaoi",
        "outputId": "628b411d-4eb7-4591-9aaf-c149c3cd3025"
      },
      "source": [
        "data.isnull().sum()"
      ],
      "execution_count": 4,
      "outputs": [
        {
          "output_type": "execute_result",
          "data": {
            "text/plain": [
              "Cement (component 1)(kg in a m^3 mixture)                0\n",
              "Blast Furnace Slag (component 2)(kg in a m^3 mixture)    0\n",
              "Fly Ash (component 3)(kg in a m^3 mixture)               0\n",
              "Water  (component 4)(kg in a m^3 mixture)                0\n",
              "Superplasticizer (component 5)(kg in a m^3 mixture)      0\n",
              "Coarse Aggregate  (component 6)(kg in a m^3 mixture)     0\n",
              "Fine Aggregate (component 7)(kg in a m^3 mixture)        0\n",
              "Age (day)                                                0\n",
              "Concrete compressive strength(MPa, megapascals)          0\n",
              "dtype: int64"
            ]
          },
          "metadata": {},
          "execution_count": 4
        }
      ]
    },
    {
      "cell_type": "code",
      "metadata": {
        "colab": {
          "base_uri": "https://localhost:8080/",
          "height": 334
        },
        "id": "B8KLRxWpPp7r",
        "outputId": "9f0a19ce-cb94-4bae-c0e4-f62b485d301d"
      },
      "source": [
        "data.describe()"
      ],
      "execution_count": 5,
      "outputs": [
        {
          "output_type": "execute_result",
          "data": {
            "text/plain": [
              "       Cement (component 1)(kg in a m^3 mixture)  \\\n",
              "count                                1030.000000   \n",
              "mean                                  281.167864   \n",
              "std                                   104.506364   \n",
              "min                                   102.000000   \n",
              "25%                                   192.375000   \n",
              "50%                                   272.900000   \n",
              "75%                                   350.000000   \n",
              "max                                   540.000000   \n",
              "\n",
              "       Blast Furnace Slag (component 2)(kg in a m^3 mixture)  \\\n",
              "count                                        1030.000000       \n",
              "mean                                           73.895825       \n",
              "std                                            86.279342       \n",
              "min                                             0.000000       \n",
              "25%                                             0.000000       \n",
              "50%                                            22.000000       \n",
              "75%                                           142.950000       \n",
              "max                                           359.400000       \n",
              "\n",
              "       Fly Ash (component 3)(kg in a m^3 mixture)  \\\n",
              "count                                 1030.000000   \n",
              "mean                                    54.188350   \n",
              "std                                     63.997004   \n",
              "min                                      0.000000   \n",
              "25%                                      0.000000   \n",
              "50%                                      0.000000   \n",
              "75%                                    118.300000   \n",
              "max                                    200.100000   \n",
              "\n",
              "       Water  (component 4)(kg in a m^3 mixture)  \\\n",
              "count                                1030.000000   \n",
              "mean                                  181.567282   \n",
              "std                                    21.354219   \n",
              "min                                   121.800000   \n",
              "25%                                   164.900000   \n",
              "50%                                   185.000000   \n",
              "75%                                   192.000000   \n",
              "max                                   247.000000   \n",
              "\n",
              "       Superplasticizer (component 5)(kg in a m^3 mixture)  \\\n",
              "count                                        1030.000000     \n",
              "mean                                            6.204660     \n",
              "std                                             5.973841     \n",
              "min                                             0.000000     \n",
              "25%                                             0.000000     \n",
              "50%                                             6.400000     \n",
              "75%                                            10.200000     \n",
              "max                                            32.200000     \n",
              "\n",
              "       Coarse Aggregate  (component 6)(kg in a m^3 mixture)  \\\n",
              "count                                        1030.000000      \n",
              "mean                                          972.918932      \n",
              "std                                            77.753954      \n",
              "min                                           801.000000      \n",
              "25%                                           932.000000      \n",
              "50%                                           968.000000      \n",
              "75%                                          1029.400000      \n",
              "max                                          1145.000000      \n",
              "\n",
              "       Fine Aggregate (component 7)(kg in a m^3 mixture)    Age (day)  \\\n",
              "count                                        1030.000000  1030.000000   \n",
              "mean                                          773.580485    45.662136   \n",
              "std                                            80.175980    63.169912   \n",
              "min                                           594.000000     1.000000   \n",
              "25%                                           730.950000     7.000000   \n",
              "50%                                           779.500000    28.000000   \n",
              "75%                                           824.000000    56.000000   \n",
              "max                                           992.600000   365.000000   \n",
              "\n",
              "       Concrete compressive strength(MPa, megapascals)   \n",
              "count                                       1030.000000  \n",
              "mean                                          35.817961  \n",
              "std                                           16.705742  \n",
              "min                                            2.330000  \n",
              "25%                                           23.710000  \n",
              "50%                                           34.445000  \n",
              "75%                                           46.135000  \n",
              "max                                           82.600000  "
            ],
            "text/html": "<div>\n<style scoped>\n    .dataframe tbody tr th:only-of-type {\n        vertical-align: middle;\n    }\n\n    .dataframe tbody tr th {\n        vertical-align: top;\n    }\n\n    .dataframe thead th {\n        text-align: right;\n    }\n</style>\n<table border=\"1\" class=\"dataframe\">\n  <thead>\n    <tr style=\"text-align: right;\">\n      <th></th>\n      <th>Cement (component 1)(kg in a m^3 mixture)</th>\n      <th>Blast Furnace Slag (component 2)(kg in a m^3 mixture)</th>\n      <th>Fly Ash (component 3)(kg in a m^3 mixture)</th>\n      <th>Water  (component 4)(kg in a m^3 mixture)</th>\n      <th>Superplasticizer (component 5)(kg in a m^3 mixture)</th>\n      <th>Coarse Aggregate  (component 6)(kg in a m^3 mixture)</th>\n      <th>Fine Aggregate (component 7)(kg in a m^3 mixture)</th>\n      <th>Age (day)</th>\n      <th>Concrete compressive strength(MPa, megapascals)</th>\n    </tr>\n  </thead>\n  <tbody>\n    <tr>\n      <th>count</th>\n      <td>1030.000000</td>\n      <td>1030.000000</td>\n      <td>1030.000000</td>\n      <td>1030.000000</td>\n      <td>1030.000000</td>\n      <td>1030.000000</td>\n      <td>1030.000000</td>\n      <td>1030.000000</td>\n      <td>1030.000000</td>\n    </tr>\n    <tr>\n      <th>mean</th>\n      <td>281.167864</td>\n      <td>73.895825</td>\n      <td>54.188350</td>\n      <td>181.567282</td>\n      <td>6.204660</td>\n      <td>972.918932</td>\n      <td>773.580485</td>\n      <td>45.662136</td>\n      <td>35.817961</td>\n    </tr>\n    <tr>\n      <th>std</th>\n      <td>104.506364</td>\n      <td>86.279342</td>\n      <td>63.997004</td>\n      <td>21.354219</td>\n      <td>5.973841</td>\n      <td>77.753954</td>\n      <td>80.175980</td>\n      <td>63.169912</td>\n      <td>16.705742</td>\n    </tr>\n    <tr>\n      <th>min</th>\n      <td>102.000000</td>\n      <td>0.000000</td>\n      <td>0.000000</td>\n      <td>121.800000</td>\n      <td>0.000000</td>\n      <td>801.000000</td>\n      <td>594.000000</td>\n      <td>1.000000</td>\n      <td>2.330000</td>\n    </tr>\n    <tr>\n      <th>25%</th>\n      <td>192.375000</td>\n      <td>0.000000</td>\n      <td>0.000000</td>\n      <td>164.900000</td>\n      <td>0.000000</td>\n      <td>932.000000</td>\n      <td>730.950000</td>\n      <td>7.000000</td>\n      <td>23.710000</td>\n    </tr>\n    <tr>\n      <th>50%</th>\n      <td>272.900000</td>\n      <td>22.000000</td>\n      <td>0.000000</td>\n      <td>185.000000</td>\n      <td>6.400000</td>\n      <td>968.000000</td>\n      <td>779.500000</td>\n      <td>28.000000</td>\n      <td>34.445000</td>\n    </tr>\n    <tr>\n      <th>75%</th>\n      <td>350.000000</td>\n      <td>142.950000</td>\n      <td>118.300000</td>\n      <td>192.000000</td>\n      <td>10.200000</td>\n      <td>1029.400000</td>\n      <td>824.000000</td>\n      <td>56.000000</td>\n      <td>46.135000</td>\n    </tr>\n    <tr>\n      <th>max</th>\n      <td>540.000000</td>\n      <td>359.400000</td>\n      <td>200.100000</td>\n      <td>247.000000</td>\n      <td>32.200000</td>\n      <td>1145.000000</td>\n      <td>992.600000</td>\n      <td>365.000000</td>\n      <td>82.600000</td>\n    </tr>\n  </tbody>\n</table>\n</div>"
          },
          "metadata": {},
          "execution_count": 5
        }
      ]
    },
    {
      "cell_type": "code",
      "metadata": {
        "colab": {
          "base_uri": "https://localhost:8080/"
        },
        "id": "A0q1k6viWxm-",
        "outputId": "4cc87d86-926d-4d31-bd8a-861e21d1a562"
      },
      "source": [
        "data.dtypes"
      ],
      "execution_count": 6,
      "outputs": [
        {
          "output_type": "execute_result",
          "data": {
            "text/plain": [
              "Cement (component 1)(kg in a m^3 mixture)                float64\n",
              "Blast Furnace Slag (component 2)(kg in a m^3 mixture)    float64\n",
              "Fly Ash (component 3)(kg in a m^3 mixture)               float64\n",
              "Water  (component 4)(kg in a m^3 mixture)                float64\n",
              "Superplasticizer (component 5)(kg in a m^3 mixture)      float64\n",
              "Coarse Aggregate  (component 6)(kg in a m^3 mixture)     float64\n",
              "Fine Aggregate (component 7)(kg in a m^3 mixture)        float64\n",
              "Age (day)                                                  int64\n",
              "Concrete compressive strength(MPa, megapascals)          float64\n",
              "dtype: object"
            ]
          },
          "metadata": {},
          "execution_count": 6
        }
      ]
    },
    {
      "cell_type": "code",
      "metadata": {
        "colab": {
          "base_uri": "https://localhost:8080/"
        },
        "id": "cuXj7xw9P3oN",
        "outputId": "250d496d-d960-438b-b12e-1896d7f44e19"
      },
      "source": [
        "targets = data.iloc[:,-1]\n",
        "targets"
      ],
      "execution_count": 7,
      "outputs": [
        {
          "output_type": "execute_result",
          "data": {
            "text/plain": [
              "0       79.99\n",
              "1       61.89\n",
              "2       40.27\n",
              "3       41.05\n",
              "4       44.30\n",
              "        ...  \n",
              "1025    44.28\n",
              "1026    31.18\n",
              "1027    23.70\n",
              "1028    32.77\n",
              "1029    32.40\n",
              "Name: Concrete compressive strength(MPa, megapascals) , Length: 1030, dtype: float64"
            ]
          },
          "metadata": {},
          "execution_count": 7
        }
      ]
    },
    {
      "cell_type": "code",
      "metadata": {
        "colab": {
          "base_uri": "https://localhost:8080/"
        },
        "id": "3diOjaaQX0sm",
        "outputId": "8a5665a3-1ed8-48c8-affe-7f1998950b56"
      },
      "source": [
        "data.columns"
      ],
      "execution_count": 8,
      "outputs": [
        {
          "output_type": "execute_result",
          "data": {
            "text/plain": [
              "Index(['Cement (component 1)(kg in a m^3 mixture)',\n",
              "       'Blast Furnace Slag (component 2)(kg in a m^3 mixture)',\n",
              "       'Fly Ash (component 3)(kg in a m^3 mixture)',\n",
              "       'Water  (component 4)(kg in a m^3 mixture)',\n",
              "       'Superplasticizer (component 5)(kg in a m^3 mixture)',\n",
              "       'Coarse Aggregate  (component 6)(kg in a m^3 mixture)',\n",
              "       'Fine Aggregate (component 7)(kg in a m^3 mixture)', 'Age (day)',\n",
              "       'Concrete compressive strength(MPa, megapascals) '],\n",
              "      dtype='object')"
            ]
          },
          "metadata": {},
          "execution_count": 8
        }
      ]
    },
    {
      "cell_type": "code",
      "metadata": {
        "colab": {
          "base_uri": "https://localhost:8080/",
          "height": 435
        },
        "id": "ozb6qb15XFhd",
        "outputId": "e07eb316-5e89-4004-9cd9-869499683d2c"
      },
      "source": [
        "data1 = data.drop(columns = ['Concrete compressive strength(MPa, megapascals) '])\n",
        "data1"
      ],
      "execution_count": 9,
      "outputs": [
        {
          "output_type": "execute_result",
          "data": {
            "text/plain": [
              "      Cement (component 1)(kg in a m^3 mixture)  \\\n",
              "0                                         540.0   \n",
              "1                                         540.0   \n",
              "2                                         332.5   \n",
              "3                                         332.5   \n",
              "4                                         198.6   \n",
              "...                                         ...   \n",
              "1025                                      276.4   \n",
              "1026                                      322.2   \n",
              "1027                                      148.5   \n",
              "1028                                      159.1   \n",
              "1029                                      260.9   \n",
              "\n",
              "      Blast Furnace Slag (component 2)(kg in a m^3 mixture)  \\\n",
              "0                                                   0.0       \n",
              "1                                                   0.0       \n",
              "2                                                 142.5       \n",
              "3                                                 142.5       \n",
              "4                                                 132.4       \n",
              "...                                                 ...       \n",
              "1025                                              116.0       \n",
              "1026                                                0.0       \n",
              "1027                                              139.4       \n",
              "1028                                              186.7       \n",
              "1029                                              100.5       \n",
              "\n",
              "      Fly Ash (component 3)(kg in a m^3 mixture)  \\\n",
              "0                                            0.0   \n",
              "1                                            0.0   \n",
              "2                                            0.0   \n",
              "3                                            0.0   \n",
              "4                                            0.0   \n",
              "...                                          ...   \n",
              "1025                                        90.3   \n",
              "1026                                       115.6   \n",
              "1027                                       108.6   \n",
              "1028                                         0.0   \n",
              "1029                                        78.3   \n",
              "\n",
              "      Water  (component 4)(kg in a m^3 mixture)  \\\n",
              "0                                         162.0   \n",
              "1                                         162.0   \n",
              "2                                         228.0   \n",
              "3                                         228.0   \n",
              "4                                         192.0   \n",
              "...                                         ...   \n",
              "1025                                      179.6   \n",
              "1026                                      196.0   \n",
              "1027                                      192.7   \n",
              "1028                                      175.6   \n",
              "1029                                      200.6   \n",
              "\n",
              "      Superplasticizer (component 5)(kg in a m^3 mixture)  \\\n",
              "0                                                   2.5     \n",
              "1                                                   2.5     \n",
              "2                                                   0.0     \n",
              "3                                                   0.0     \n",
              "4                                                   0.0     \n",
              "...                                                 ...     \n",
              "1025                                                8.9     \n",
              "1026                                               10.4     \n",
              "1027                                                6.1     \n",
              "1028                                               11.3     \n",
              "1029                                                8.6     \n",
              "\n",
              "      Coarse Aggregate  (component 6)(kg in a m^3 mixture)  \\\n",
              "0                                                1040.0      \n",
              "1                                                1055.0      \n",
              "2                                                 932.0      \n",
              "3                                                 932.0      \n",
              "4                                                 978.4      \n",
              "...                                                 ...      \n",
              "1025                                              870.1      \n",
              "1026                                              817.9      \n",
              "1027                                              892.4      \n",
              "1028                                              989.6      \n",
              "1029                                              864.5      \n",
              "\n",
              "      Fine Aggregate (component 7)(kg in a m^3 mixture)  Age (day)  \n",
              "0                                                 676.0         28  \n",
              "1                                                 676.0         28  \n",
              "2                                                 594.0        270  \n",
              "3                                                 594.0        365  \n",
              "4                                                 825.5        360  \n",
              "...                                                 ...        ...  \n",
              "1025                                              768.3         28  \n",
              "1026                                              813.4         28  \n",
              "1027                                              780.0         28  \n",
              "1028                                              788.9         28  \n",
              "1029                                              761.5         28  \n",
              "\n",
              "[1030 rows x 8 columns]"
            ],
            "text/html": "<div>\n<style scoped>\n    .dataframe tbody tr th:only-of-type {\n        vertical-align: middle;\n    }\n\n    .dataframe tbody tr th {\n        vertical-align: top;\n    }\n\n    .dataframe thead th {\n        text-align: right;\n    }\n</style>\n<table border=\"1\" class=\"dataframe\">\n  <thead>\n    <tr style=\"text-align: right;\">\n      <th></th>\n      <th>Cement (component 1)(kg in a m^3 mixture)</th>\n      <th>Blast Furnace Slag (component 2)(kg in a m^3 mixture)</th>\n      <th>Fly Ash (component 3)(kg in a m^3 mixture)</th>\n      <th>Water  (component 4)(kg in a m^3 mixture)</th>\n      <th>Superplasticizer (component 5)(kg in a m^3 mixture)</th>\n      <th>Coarse Aggregate  (component 6)(kg in a m^3 mixture)</th>\n      <th>Fine Aggregate (component 7)(kg in a m^3 mixture)</th>\n      <th>Age (day)</th>\n    </tr>\n  </thead>\n  <tbody>\n    <tr>\n      <th>0</th>\n      <td>540.0</td>\n      <td>0.0</td>\n      <td>0.0</td>\n      <td>162.0</td>\n      <td>2.5</td>\n      <td>1040.0</td>\n      <td>676.0</td>\n      <td>28</td>\n    </tr>\n    <tr>\n      <th>1</th>\n      <td>540.0</td>\n      <td>0.0</td>\n      <td>0.0</td>\n      <td>162.0</td>\n      <td>2.5</td>\n      <td>1055.0</td>\n      <td>676.0</td>\n      <td>28</td>\n    </tr>\n    <tr>\n      <th>2</th>\n      <td>332.5</td>\n      <td>142.5</td>\n      <td>0.0</td>\n      <td>228.0</td>\n      <td>0.0</td>\n      <td>932.0</td>\n      <td>594.0</td>\n      <td>270</td>\n    </tr>\n    <tr>\n      <th>3</th>\n      <td>332.5</td>\n      <td>142.5</td>\n      <td>0.0</td>\n      <td>228.0</td>\n      <td>0.0</td>\n      <td>932.0</td>\n      <td>594.0</td>\n      <td>365</td>\n    </tr>\n    <tr>\n      <th>4</th>\n      <td>198.6</td>\n      <td>132.4</td>\n      <td>0.0</td>\n      <td>192.0</td>\n      <td>0.0</td>\n      <td>978.4</td>\n      <td>825.5</td>\n      <td>360</td>\n    </tr>\n    <tr>\n      <th>...</th>\n      <td>...</td>\n      <td>...</td>\n      <td>...</td>\n      <td>...</td>\n      <td>...</td>\n      <td>...</td>\n      <td>...</td>\n      <td>...</td>\n    </tr>\n    <tr>\n      <th>1025</th>\n      <td>276.4</td>\n      <td>116.0</td>\n      <td>90.3</td>\n      <td>179.6</td>\n      <td>8.9</td>\n      <td>870.1</td>\n      <td>768.3</td>\n      <td>28</td>\n    </tr>\n    <tr>\n      <th>1026</th>\n      <td>322.2</td>\n      <td>0.0</td>\n      <td>115.6</td>\n      <td>196.0</td>\n      <td>10.4</td>\n      <td>817.9</td>\n      <td>813.4</td>\n      <td>28</td>\n    </tr>\n    <tr>\n      <th>1027</th>\n      <td>148.5</td>\n      <td>139.4</td>\n      <td>108.6</td>\n      <td>192.7</td>\n      <td>6.1</td>\n      <td>892.4</td>\n      <td>780.0</td>\n      <td>28</td>\n    </tr>\n    <tr>\n      <th>1028</th>\n      <td>159.1</td>\n      <td>186.7</td>\n      <td>0.0</td>\n      <td>175.6</td>\n      <td>11.3</td>\n      <td>989.6</td>\n      <td>788.9</td>\n      <td>28</td>\n    </tr>\n    <tr>\n      <th>1029</th>\n      <td>260.9</td>\n      <td>100.5</td>\n      <td>78.3</td>\n      <td>200.6</td>\n      <td>8.6</td>\n      <td>864.5</td>\n      <td>761.5</td>\n      <td>28</td>\n    </tr>\n  </tbody>\n</table>\n<p>1030 rows × 8 columns</p>\n</div>"
          },
          "metadata": {},
          "execution_count": 9
        }
      ]
    },
    {
      "cell_type": "markdown",
      "metadata": {
        "id": "Mu2t0iX5gWUI"
      },
      "source": [
        "##Standardized the Input Variables. Hint: Centeralized the data\n",
        "Split into 50% Training(Samples,Labels) , 30% Test(Samples,Labels) and 20% Validation Data(Samples,Labels).\n"
      ]
    },
    {
      "cell_type": "code",
      "metadata": {
        "id": "lNPks3_1WNzP"
      },
      "source": [
        "np.random.seed(225)\n",
        "mask = np.random.rand(len(data1)) < 0.70\n",
        "train_data = data1[mask]\n",
        "train_targets = targets[mask]\n",
        "test_data = data1[~mask]\n",
        "test_targets = targets[~mask]\n",
        "\n",
        "val_data = train_data[:round(len(data) * 0.2)]\n",
        "val_targets = train_targets[:round(len(data) * 0.2)]\n",
        "\n",
        "train_data = train_data[round(len(data) * 0.2):]\n",
        "train_targets = train_targets[round(len(data) * 0.2):]"
      ],
      "execution_count": 10,
      "outputs": []
    },
    {
      "cell_type": "code",
      "metadata": {
        "colab": {
          "base_uri": "https://localhost:8080/"
        },
        "id": "hqQDY1ikZvEx",
        "outputId": "0ca266b5-84e9-4f14-ce1b-28ef0bd14d60"
      },
      "source": [
        "len(val_data), len(val_targets)"
      ],
      "execution_count": 11,
      "outputs": [
        {
          "output_type": "execute_result",
          "data": {
            "text/plain": [
              "(206, 206)"
            ]
          },
          "metadata": {},
          "execution_count": 11
        }
      ]
    },
    {
      "cell_type": "code",
      "metadata": {
        "colab": {
          "base_uri": "https://localhost:8080/"
        },
        "id": "bzo6m3QjZv_q",
        "outputId": "5caa2f18-9cf7-4ec7-c681-b2d59b0c425a"
      },
      "source": [
        "mean = train_data.iloc[:,:].mean(axis=0)\n",
        "mean"
      ],
      "execution_count": 12,
      "outputs": [
        {
          "output_type": "execute_result",
          "data": {
            "text/plain": [
              "Cement (component 1)(kg in a m^3 mixture)                267.314229\n",
              "Blast Furnace Slag (component 2)(kg in a m^3 mixture)     70.741107\n",
              "Fly Ash (component 3)(kg in a m^3 mixture)                56.349209\n",
              "Water  (component 4)(kg in a m^3 mixture)                183.183597\n",
              "Superplasticizer (component 5)(kg in a m^3 mixture)        5.243083\n",
              "Coarse Aggregate  (component 6)(kg in a m^3 mixture)     974.936957\n",
              "Fine Aggregate (component 7)(kg in a m^3 mixture)        774.952569\n",
              "Age (day)                                                 35.500000\n",
              "dtype: float64"
            ]
          },
          "metadata": {},
          "execution_count": 12
        }
      ]
    },
    {
      "cell_type": "code",
      "metadata": {
        "colab": {
          "base_uri": "https://localhost:8080/"
        },
        "id": "C2RhVeVGaGW1",
        "outputId": "fefe5eb5-70cf-4afd-ab33-a7ce506ee072"
      },
      "source": [
        "stndrd = train_data.iloc[:,:].std(axis = 0)\n",
        "stndrd"
      ],
      "execution_count": 13,
      "outputs": [
        {
          "output_type": "execute_result",
          "data": {
            "text/plain": [
              "Cement (component 1)(kg in a m^3 mixture)                102.254900\n",
              "Blast Furnace Slag (component 2)(kg in a m^3 mixture)     86.481325\n",
              "Fly Ash (component 3)(kg in a m^3 mixture)                64.964921\n",
              "Water  (component 4)(kg in a m^3 mixture)                 18.213752\n",
              "Superplasticizer (component 5)(kg in a m^3 mixture)        5.173179\n",
              "Coarse Aggregate  (component 6)(kg in a m^3 mixture)      77.907223\n",
              "Fine Aggregate (component 7)(kg in a m^3 mixture)         73.073624\n",
              "Age (day)                                                 42.421798\n",
              "dtype: float64"
            ]
          },
          "metadata": {},
          "execution_count": 13
        }
      ]
    },
    {
      "cell_type": "code",
      "metadata": {
        "colab": {
          "base_uri": "https://localhost:8080/"
        },
        "id": "M6iX7snKaJXv",
        "outputId": "44e6f69c-3481-4cbe-f746-2edeefb38c03"
      },
      "source": [
        "train_data -= mean\n",
        "train_data /= stndrd\n",
        "test_data -= mean\n",
        "test_data /= stndrd\n",
        "val_data -= mean\n",
        "val_data /= stndrd\n",
        "\n",
        "train_data.head(), test_data.head(), val_data.head()"
      ],
      "execution_count": 14,
      "outputs": [
        {
          "output_type": "execute_result",
          "data": {
            "text/plain": [
              "(     Cement (component 1)(kg in a m^3 mixture)  \\\n",
              " 296                                  -0.962440   \n",
              " 298                                  -0.962440   \n",
              " 300                                   0.225767   \n",
              " 301                                   0.225767   \n",
              " 302                                   0.225767   \n",
              " \n",
              "      Blast Furnace Slag (component 2)(kg in a m^3 mixture)  \\\n",
              " 296                                          -0.330026       \n",
              " 298                                          -0.330026       \n",
              " 300                                          -0.817993       \n",
              " 301                                          -0.817993       \n",
              " 302                                          -0.817993       \n",
              " \n",
              "      Fly Ash (component 3)(kg in a m^3 mixture)  \\\n",
              " 296                                    1.045961   \n",
              " 298                                    1.045961   \n",
              " 300                                    0.613420   \n",
              " 301                                    0.613420   \n",
              " 302                                    0.613420   \n",
              " \n",
              "      Water  (component 4)(kg in a m^3 mixture)  \\\n",
              " 296                                  -1.366198   \n",
              " 298                                  -1.366198   \n",
              " 300                                  -0.828143   \n",
              " 301                                  -0.828143   \n",
              " 302                                  -0.828143   \n",
              " \n",
              "      Superplasticizer (component 5)(kg in a m^3 mixture)  \\\n",
              " 296                                           1.074178     \n",
              " 298                                           1.074178     \n",
              " 300                                           0.803552     \n",
              " 301                                           0.803552     \n",
              " 302                                           0.803552     \n",
              " \n",
              "      Coarse Aggregate  (component 6)(kg in a m^3 mixture)  \\\n",
              " 296                                           1.358835      \n",
              " 298                                           1.358835      \n",
              " 300                                          -0.176325      \n",
              " 301                                          -0.176325      \n",
              " 302                                          -0.176325      \n",
              " \n",
              "      Fine Aggregate (component 7)(kg in a m^3 mixture)  Age (day)  \n",
              " 296                                           0.290767  -0.176796  \n",
              " 298                                           0.290767   1.520445  \n",
              " 300                                           1.232284  -0.506815  \n",
              " 301                                           1.232284  -0.176796  \n",
              " 302                                           1.232284   0.483242  ,\n",
              "     Cement (component 1)(kg in a m^3 mixture)  \\\n",
              " 5                                   -0.012852   \n",
              " 9                                    2.031059   \n",
              " 11                                  -0.671990   \n",
              " 12                                   1.566534   \n",
              " 13                                  -0.756093   \n",
              " \n",
              "     Blast Furnace Slag (component 2)(kg in a m^3 mixture)  \\\n",
              " 5                                            0.500211       \n",
              " 9                                           -0.817993       \n",
              " 11                                           0.712974       \n",
              " 12                                          -0.268741       \n",
              " 13                                           1.379013       \n",
              " \n",
              "     Fly Ash (component 3)(kg in a m^3 mixture)  \\\n",
              " 5                                    -0.867379   \n",
              " 9                                    -0.867379   \n",
              " 11                                   -0.867379   \n",
              " 12                                   -0.867379   \n",
              " 13                                   -0.867379   \n",
              " \n",
              "     Water  (component 4)(kg in a m^3 mixture)  \\\n",
              " 5                                    2.460580   \n",
              " 9                                    2.460580   \n",
              " 11                                   0.484052   \n",
              " 12                                   2.460580   \n",
              " 13                                   2.460580   \n",
              " \n",
              "     Superplasticizer (component 5)(kg in a m^3 mixture)  \\\n",
              " 5                                           -1.013513     \n",
              " 9                                           -1.013513     \n",
              " 11                                          -1.013513     \n",
              " 12                                          -1.013513     \n",
              " 13                                          -1.013513     \n",
              " \n",
              "     Coarse Aggregate  (component 6)(kg in a m^3 mixture)  \\\n",
              " 5                                           -0.551129      \n",
              " 9                                           -0.551129      \n",
              " 11                                           0.044451      \n",
              " 12                                          -0.551129      \n",
              " 13                                          -0.551129      \n",
              " \n",
              "     Fine Aggregate (component 7)(kg in a m^3 mixture)  Age (day)  \n",
              " 5                                           -1.436258   1.284717  \n",
              " 9                                           -2.476305  -0.176796  \n",
              " 11                                           0.691733  -0.176796  \n",
              " 12                                          -2.476305   5.527819  \n",
              " 13                                          -1.436258   1.284717  ,\n",
              "    Cement (component 1)(kg in a m^3 mixture)  \\\n",
              " 0                                   2.666726   \n",
              " 1                                   2.666726   \n",
              " 2                                   0.637483   \n",
              " 3                                   0.637483   \n",
              " 4                                  -0.671990   \n",
              " \n",
              "    Blast Furnace Slag (component 2)(kg in a m^3 mixture)  \\\n",
              " 0                                          -0.817993       \n",
              " 1                                          -0.817993       \n",
              " 2                                           0.829762       \n",
              " 3                                           0.829762       \n",
              " 4                                           0.712974       \n",
              " \n",
              "    Fly Ash (component 3)(kg in a m^3 mixture)  \\\n",
              " 0                                   -0.867379   \n",
              " 1                                   -0.867379   \n",
              " 2                                   -0.867379   \n",
              " 3                                   -0.867379   \n",
              " 4                                   -0.867379   \n",
              " \n",
              "    Water  (component 4)(kg in a m^3 mixture)  \\\n",
              " 0                                  -1.163055   \n",
              " 1                                  -1.163055   \n",
              " 2                                   2.460580   \n",
              " 3                                   2.460580   \n",
              " 4                                   0.484052   \n",
              " \n",
              "    Superplasticizer (component 5)(kg in a m^3 mixture)  \\\n",
              " 0                                          -0.530251     \n",
              " 1                                          -0.530251     \n",
              " 2                                          -1.013513     \n",
              " 3                                          -1.013513     \n",
              " 4                                          -1.013513     \n",
              " \n",
              "    Coarse Aggregate  (component 6)(kg in a m^3 mixture)  \\\n",
              " 0                                           0.835135      \n",
              " 1                                           1.027672      \n",
              " 2                                          -0.551129      \n",
              " 3                                          -0.551129      \n",
              " 4                                           0.044451      \n",
              " \n",
              "    Fine Aggregate (component 7)(kg in a m^3 mixture)  Age (day)  \n",
              " 0                                          -1.354149  -0.176796  \n",
              " 1                                          -1.354149  -0.176796  \n",
              " 2                                          -2.476305   5.527819  \n",
              " 3                                          -2.476305   7.767233  \n",
              " 4                                           0.691733   7.649369  )"
            ]
          },
          "metadata": {},
          "execution_count": 14
        }
      ]
    },
    {
      "cell_type": "code",
      "metadata": {
        "colab": {
          "base_uri": "https://localhost:8080/"
        },
        "id": "jHMzhISGa8X5",
        "outputId": "7810b1dd-b0b3-48c7-a7a0-07c403712991"
      },
      "source": [
        "mean_trgts = train_targets.mean()\n",
        "stndrd_trgts =  train_targets.std()\n",
        "mean_trgts, stndrd_trgts"
      ],
      "execution_count": 15,
      "outputs": [
        {
          "output_type": "execute_result",
          "data": {
            "text/plain": [
              "(32.5000790513834, 15.331247557746462)"
            ]
          },
          "metadata": {},
          "execution_count": 15
        }
      ]
    },
    {
      "cell_type": "code",
      "metadata": {
        "colab": {
          "base_uri": "https://localhost:8080/"
        },
        "id": "YD0jqvr1a2lp",
        "outputId": "24fe7557-e664-47f4-ab2b-5ce5f4f762b1"
      },
      "source": [
        "train_targets -= mean_trgts\n",
        "train_targets /= stndrd_trgts\n",
        "\n",
        "test_targets -= mean_trgts\n",
        "test_targets /= stndrd_trgts\n",
        "\n",
        "val_targets -= mean_trgts\n",
        "val_targets /= stndrd_trgts\n",
        "\n",
        "\n",
        "train_targets.head(), test_targets.head(), val_targets.head()"
      ],
      "execution_count": 16,
      "outputs": [
        {
          "output_type": "execute_result",
          "data": {
            "text/plain": [
              "(296   -0.090017\n",
              " 298    1.020786\n",
              " 300    0.141536\n",
              " 301    0.146102\n",
              " 302    0.820541\n",
              " Name: Concrete compressive strength(MPa, megapascals) , dtype: float64,\n",
              " 5     0.947732\n",
              " 9     0.442881\n",
              " 11   -0.292219\n",
              " 12    0.685523\n",
              " 13    0.641169\n",
              " Name: Concrete compressive strength(MPa, megapascals) , dtype: float64,\n",
              " 0    3.097590\n",
              " 1    1.916995\n",
              " 2    0.506803\n",
              " 3    0.557679\n",
              " 4    0.769665\n",
              " Name: Concrete compressive strength(MPa, megapascals) , dtype: float64)"
            ]
          },
          "metadata": {},
          "execution_count": 16
        }
      ]
    },
    {
      "cell_type": "markdown",
      "metadata": {
        "id": "Wc-Hw2i2ggd2"
      },
      "source": [
        "##Model : input Layer (No. of features ), 3 hidden layers including 10,8,6 unit & Output Layer with activation function relu/tanh (check by experiment).\n",
        "##Compilation Step (Note : Its a Regression problem , select loss , metrics according to it)\n"
      ]
    },
    {
      "cell_type": "code",
      "metadata": {
        "id": "QlmoMJlZbV4l"
      },
      "source": [
        "network = models.Sequential()\n",
        "network.add(layers.Dense(10, activation='relu', input_shape=(train_data.shape[1],)))\n",
        "network.add(layers.Dense(8, activation='relu'))\n",
        "network.add(layers.Dense(6, activation='relu'))\n",
        "network.add(layers.Dense(1))\n",
        "network.compile(optimizer='rmsprop', loss='mse', metrics=['mae'])"
      ],
      "execution_count": 62,
      "outputs": []
    },
    {
      "cell_type": "code",
      "metadata": {
        "colab": {
          "base_uri": "https://localhost:8080/"
        },
        "id": "m4yt-IJackwc",
        "outputId": "9dd26e51-1f98-4887-9bc3-5f46df79a942"
      },
      "source": [
        "network.summary()"
      ],
      "execution_count": 63,
      "outputs": [
        {
          "output_type": "stream",
          "name": "stdout",
          "text": [
            "Model: \"sequential_11\"\n_________________________________________________________________\nLayer (type)                 Output Shape              Param #   \n=================================================================\ndense_44 (Dense)             (None, 10)                90        \n_________________________________________________________________\ndense_45 (Dense)             (None, 8)                 88        \n_________________________________________________________________\ndense_46 (Dense)             (None, 6)                 54        \n_________________________________________________________________\ndense_47 (Dense)             (None, 1)                 7         \n=================================================================\nTotal params: 239\nTrainable params: 239\nNon-trainable params: 0\n_________________________________________________________________\n"
          ]
        }
      ]
    },
    {
      "cell_type": "markdown",
      "metadata": {
        "id": "F6MXGDf6goCk"
      },
      "source": []
    },
    {
      "cell_type": "markdown",
      "metadata": {
        "id": "dkYibx1oguZn"
      },
      "source": [
        "##Train the Model with Epochs (100) and validate it\n",
        "If the model gets overfit tune your model by changing the units , No. of layers , activation function , epochs , add dropout layer or add Regularizer according to the need .\n"
      ]
    },
    {
      "cell_type": "code",
      "metadata": {
        "id": "J-a0eUftbpZg",
        "tags": []
      },
      "source": [
        "history = network.fit(train_data, train_targets, epochs = 75, batch_size = 1, validation_data=(val_data, val_targets))"
      ],
      "execution_count": 64,
      "outputs": [
        {
          "output_type": "stream",
          "name": "stdout",
          "text": [
            "Epoch 1/75\n",
            "506/506 [==============================] - 1s 997us/step - loss: 0.9337 - mae: 0.7873 - val_loss: 1.2837 - val_mae: 0.9047\n",
            "Epoch 2/75\n",
            "506/506 [==============================] - 0s 721us/step - loss: 0.7139 - mae: 0.6677 - val_loss: 0.8001 - val_mae: 0.7489\n",
            "Epoch 3/75\n",
            "506/506 [==============================] - 0s 741us/step - loss: 0.5981 - mae: 0.6269 - val_loss: 0.8777 - val_mae: 0.7408\n",
            "Epoch 4/75\n",
            "506/506 [==============================] - 0s 770us/step - loss: 0.4259 - mae: 0.5187 - val_loss: 0.6865 - val_mae: 0.6887\n",
            "Epoch 5/75\n",
            "506/506 [==============================] - 0s 746us/step - loss: 0.3835 - mae: 0.5021 - val_loss: 0.7357 - val_mae: 0.6770\n",
            "Epoch 6/75\n",
            "506/506 [==============================] - 0s 725us/step - loss: 0.3311 - mae: 0.4635 - val_loss: 0.7210 - val_mae: 0.6603\n",
            "Epoch 7/75\n",
            "506/506 [==============================] - 0s 725us/step - loss: 0.2991 - mae: 0.4156 - val_loss: 0.5629 - val_mae: 0.6083\n",
            "Epoch 8/75\n",
            "506/506 [==============================] - 0s 781us/step - loss: 0.2669 - mae: 0.3985 - val_loss: 0.4817 - val_mae: 0.5694\n",
            "Epoch 9/75\n",
            "506/506 [==============================] - 0s 713us/step - loss: 0.2294 - mae: 0.3695 - val_loss: 0.5034 - val_mae: 0.5899\n",
            "Epoch 10/75\n",
            "506/506 [==============================] - 0s 729us/step - loss: 0.2219 - mae: 0.3483 - val_loss: 0.4529 - val_mae: 0.5685\n",
            "Epoch 11/75\n",
            "506/506 [==============================] - 0s 737us/step - loss: 0.1895 - mae: 0.3396 - val_loss: 0.4145 - val_mae: 0.5251\n",
            "Epoch 12/75\n",
            "506/506 [==============================] - 0s 739us/step - loss: 0.1501 - mae: 0.2964 - val_loss: 0.4055 - val_mae: 0.5287\n",
            "Epoch 13/75\n",
            "506/506 [==============================] - 0s 745us/step - loss: 0.1355 - mae: 0.2795 - val_loss: 0.3967 - val_mae: 0.5054\n",
            "Epoch 14/75\n",
            "506/506 [==============================] - 0s 733us/step - loss: 0.1401 - mae: 0.2863 - val_loss: 0.4186 - val_mae: 0.5380\n",
            "Epoch 15/75\n",
            "506/506 [==============================] - 0s 750us/step - loss: 0.1509 - mae: 0.2814 - val_loss: 0.3983 - val_mae: 0.5216\n",
            "Epoch 16/75\n",
            "506/506 [==============================] - 0s 756us/step - loss: 0.1194 - mae: 0.2689 - val_loss: 0.4129 - val_mae: 0.5376\n",
            "Epoch 17/75\n",
            "506/506 [==============================] - 0s 739us/step - loss: 0.1353 - mae: 0.2704 - val_loss: 0.3973 - val_mae: 0.5052\n",
            "Epoch 18/75\n",
            "506/506 [==============================] - 0s 709us/step - loss: 0.1322 - mae: 0.2725 - val_loss: 0.4294 - val_mae: 0.5019\n",
            "Epoch 19/75\n",
            "506/506 [==============================] - 0s 729us/step - loss: 0.1185 - mae: 0.2674 - val_loss: 0.3968 - val_mae: 0.5100\n",
            "Epoch 20/75\n",
            "506/506 [==============================] - 0s 754us/step - loss: 0.1108 - mae: 0.2490 - val_loss: 0.4131 - val_mae: 0.5339\n",
            "Epoch 21/75\n",
            "506/506 [==============================] - 0s 774us/step - loss: 0.0950 - mae: 0.2252 - val_loss: 0.4332 - val_mae: 0.5012\n",
            "Epoch 22/75\n",
            "506/506 [==============================] - 0s 791us/step - loss: 0.1120 - mae: 0.2504 - val_loss: 0.4499 - val_mae: 0.5241\n",
            "Epoch 23/75\n",
            "506/506 [==============================] - 0s 727us/step - loss: 0.1235 - mae: 0.2593 - val_loss: 0.4019 - val_mae: 0.5141\n",
            "Epoch 24/75\n",
            "506/506 [==============================] - 0s 745us/step - loss: 0.1064 - mae: 0.2407 - val_loss: 0.4088 - val_mae: 0.5044\n",
            "Epoch 25/75\n",
            "506/506 [==============================] - 0s 747us/step - loss: 0.1040 - mae: 0.2469 - val_loss: 0.4226 - val_mae: 0.5045\n",
            "Epoch 26/75\n",
            "506/506 [==============================] - 0s 748us/step - loss: 0.0937 - mae: 0.2295 - val_loss: 0.4401 - val_mae: 0.5125\n",
            "Epoch 27/75\n",
            "506/506 [==============================] - 0s 730us/step - loss: 0.1154 - mae: 0.2493 - val_loss: 0.4153 - val_mae: 0.4904\n",
            "Epoch 28/75\n",
            "506/506 [==============================] - 0s 784us/step - loss: 0.0977 - mae: 0.2302 - val_loss: 0.4176 - val_mae: 0.4846\n",
            "Epoch 29/75\n",
            "506/506 [==============================] - 0s 735us/step - loss: 0.1035 - mae: 0.2415 - val_loss: 0.4216 - val_mae: 0.5188\n",
            "Epoch 30/75\n",
            "506/506 [==============================] - 0s 741us/step - loss: 0.1075 - mae: 0.2424 - val_loss: 0.4315 - val_mae: 0.4975\n",
            "Epoch 31/75\n",
            "506/506 [==============================] - 0s 762us/step - loss: 0.1019 - mae: 0.2325 - val_loss: 0.3910 - val_mae: 0.4884\n",
            "Epoch 32/75\n",
            "506/506 [==============================] - 0s 748us/step - loss: 0.1058 - mae: 0.2472 - val_loss: 0.4087 - val_mae: 0.5185\n",
            "Epoch 33/75\n",
            "506/506 [==============================] - 0s 746us/step - loss: 0.1048 - mae: 0.2368 - val_loss: 0.3860 - val_mae: 0.4914\n",
            "Epoch 34/75\n",
            "506/506 [==============================] - 0s 755us/step - loss: 0.1039 - mae: 0.2410 - val_loss: 0.3933 - val_mae: 0.4979\n",
            "Epoch 35/75\n",
            "506/506 [==============================] - 0s 784us/step - loss: 0.1077 - mae: 0.2426 - val_loss: 0.4023 - val_mae: 0.5051\n",
            "Epoch 36/75\n",
            "506/506 [==============================] - 0s 748us/step - loss: 0.1170 - mae: 0.2496 - val_loss: 0.4014 - val_mae: 0.4864\n",
            "Epoch 37/75\n",
            "506/506 [==============================] - 0s 741us/step - loss: 0.0950 - mae: 0.2296 - val_loss: 0.3975 - val_mae: 0.4896\n",
            "Epoch 38/75\n",
            "506/506 [==============================] - 0s 725us/step - loss: 0.0991 - mae: 0.2286 - val_loss: 0.3936 - val_mae: 0.4888\n",
            "Epoch 39/75\n",
            "506/506 [==============================] - 0s 745us/step - loss: 0.0902 - mae: 0.2142 - val_loss: 0.4028 - val_mae: 0.4878\n",
            "Epoch 40/75\n",
            "506/506 [==============================] - 0s 718us/step - loss: 0.0977 - mae: 0.2269 - val_loss: 0.4064 - val_mae: 0.5070\n",
            "Epoch 41/75\n",
            "506/506 [==============================] - 0s 744us/step - loss: 0.1096 - mae: 0.2392 - val_loss: 0.3906 - val_mae: 0.4926\n",
            "Epoch 42/75\n",
            "506/506 [==============================] - 0s 747us/step - loss: 0.0953 - mae: 0.2195 - val_loss: 0.3804 - val_mae: 0.4837\n",
            "Epoch 43/75\n",
            "506/506 [==============================] - 0s 737us/step - loss: 0.0942 - mae: 0.2222 - val_loss: 0.4268 - val_mae: 0.5063\n",
            "Epoch 44/75\n",
            "506/506 [==============================] - 0s 725us/step - loss: 0.1068 - mae: 0.2345 - val_loss: 0.3775 - val_mae: 0.4753\n",
            "Epoch 45/75\n",
            "506/506 [==============================] - 0s 739us/step - loss: 0.0959 - mae: 0.2297 - val_loss: 0.4018 - val_mae: 0.4980\n",
            "Epoch 46/75\n",
            "506/506 [==============================] - 0s 733us/step - loss: 0.0966 - mae: 0.2302 - val_loss: 0.4019 - val_mae: 0.5105\n",
            "Epoch 47/75\n",
            "506/506 [==============================] - 0s 808us/step - loss: 0.0929 - mae: 0.2289 - val_loss: 0.4424 - val_mae: 0.5238\n",
            "Epoch 48/75\n",
            "506/506 [==============================] - 0s 845us/step - loss: 0.0993 - mae: 0.2274 - val_loss: 0.4288 - val_mae: 0.5225\n",
            "Epoch 49/75\n",
            "506/506 [==============================] - 0s 776us/step - loss: 0.0973 - mae: 0.2208 - val_loss: 0.3857 - val_mae: 0.4891\n",
            "Epoch 50/75\n",
            "506/506 [==============================] - 0s 774us/step - loss: 0.0919 - mae: 0.2161 - val_loss: 0.3847 - val_mae: 0.4856\n",
            "Epoch 51/75\n",
            "506/506 [==============================] - 0s 826us/step - loss: 0.0862 - mae: 0.2152 - val_loss: 0.3998 - val_mae: 0.4987\n",
            "Epoch 52/75\n",
            "506/506 [==============================] - 0s 855us/step - loss: 0.0899 - mae: 0.2223 - val_loss: 0.4375 - val_mae: 0.5240\n",
            "Epoch 53/75\n",
            "506/506 [==============================] - 0s 769us/step - loss: 0.0912 - mae: 0.2240 - val_loss: 0.3720 - val_mae: 0.4895\n",
            "Epoch 54/75\n",
            "506/506 [==============================] - 0s 752us/step - loss: 0.1012 - mae: 0.2332 - val_loss: 0.3710 - val_mae: 0.4817\n",
            "Epoch 55/75\n",
            "506/506 [==============================] - 0s 778us/step - loss: 0.0942 - mae: 0.2280 - val_loss: 0.3839 - val_mae: 0.4770\n",
            "Epoch 56/75\n",
            "506/506 [==============================] - 0s 724us/step - loss: 0.0947 - mae: 0.2240 - val_loss: 0.3981 - val_mae: 0.4954\n",
            "Epoch 57/75\n",
            "506/506 [==============================] - 0s 843us/step - loss: 0.0908 - mae: 0.2184 - val_loss: 0.3753 - val_mae: 0.4748\n",
            "Epoch 58/75\n",
            "506/506 [==============================] - 0s 843us/step - loss: 0.0824 - mae: 0.2116 - val_loss: 0.3773 - val_mae: 0.4745\n",
            "Epoch 59/75\n",
            "506/506 [==============================] - 0s 750us/step - loss: 0.1049 - mae: 0.2301 - val_loss: 0.3924 - val_mae: 0.4980\n",
            "Epoch 60/75\n",
            "506/506 [==============================] - 0s 770us/step - loss: 0.0821 - mae: 0.2071 - val_loss: 0.4021 - val_mae: 0.5096\n",
            "Epoch 61/75\n",
            "506/506 [==============================] - 0s 709us/step - loss: 0.0908 - mae: 0.2152 - val_loss: 0.3892 - val_mae: 0.4889\n",
            "Epoch 62/75\n",
            "506/506 [==============================] - 0s 702us/step - loss: 0.1033 - mae: 0.2279 - val_loss: 0.3964 - val_mae: 0.4821\n",
            "Epoch 63/75\n",
            "506/506 [==============================] - 0s 693us/step - loss: 0.0790 - mae: 0.2002 - val_loss: 0.3897 - val_mae: 0.4786\n",
            "Epoch 64/75\n",
            "506/506 [==============================] - 0s 918us/step - loss: 0.0930 - mae: 0.2211 - val_loss: 0.4545 - val_mae: 0.5112\n",
            "Epoch 65/75\n",
            "506/506 [==============================] - 0s 817us/step - loss: 0.0936 - mae: 0.2209 - val_loss: 0.3716 - val_mae: 0.4756\n",
            "Epoch 66/75\n",
            "506/506 [==============================] - 0s 771us/step - loss: 0.0863 - mae: 0.2174 - val_loss: 0.3773 - val_mae: 0.4764\n",
            "Epoch 67/75\n",
            "506/506 [==============================] - 0s 822us/step - loss: 0.0884 - mae: 0.2153 - val_loss: 0.4337 - val_mae: 0.5000\n",
            "Epoch 68/75\n",
            "506/506 [==============================] - 0s 838us/step - loss: 0.0871 - mae: 0.2208 - val_loss: 0.4057 - val_mae: 0.4833\n",
            "Epoch 69/75\n",
            "506/506 [==============================] - 0s 772us/step - loss: 0.0867 - mae: 0.2026 - val_loss: 0.3780 - val_mae: 0.4800\n",
            "Epoch 70/75\n",
            "506/506 [==============================] - 0s 782us/step - loss: 0.0934 - mae: 0.2250 - val_loss: 0.3738 - val_mae: 0.4702\n",
            "Epoch 71/75\n",
            "506/506 [==============================] - 0s 770us/step - loss: 0.0984 - mae: 0.2220 - val_loss: 0.3917 - val_mae: 0.4924\n",
            "Epoch 72/75\n",
            "506/506 [==============================] - 0s 764us/step - loss: 0.0820 - mae: 0.2050 - val_loss: 0.3802 - val_mae: 0.4832\n",
            "Epoch 73/75\n",
            "506/506 [==============================] - 0s 764us/step - loss: 0.1105 - mae: 0.2282 - val_loss: 0.4126 - val_mae: 0.4834\n",
            "Epoch 74/75\n",
            "506/506 [==============================] - 0s 765us/step - loss: 0.0831 - mae: 0.2080 - val_loss: 0.4324 - val_mae: 0.5241\n",
            "Epoch 75/75\n",
            "506/506 [==============================] - 0s 804us/step - loss: 0.1103 - mae: 0.2413 - val_loss: 0.4014 - val_mae: 0.4865\n"
          ]
        }
      ]
    },
    {
      "cell_type": "code",
      "metadata": {
        "colab": {
          "base_uri": "https://localhost:8080/",
          "height": 295
        },
        "id": "5IuIsAWqhjRN",
        "outputId": "fceabebc-5a9a-4ed0-c90e-ce4251c54925"
      },
      "source": [
        "loss = history.history['loss']\n",
        "val_loss = history.history['val_loss']\n",
        "epochs = range(1, len(loss) + 1)\n",
        "plt.plot(epochs, loss, 'bo', label='Training loss')\n",
        "plt.plot(epochs, val_loss, 'b', label='Validation loss')\n",
        "plt.title('Training and validation loss')\n",
        "plt.xlabel('Epochs')\n",
        "plt.ylabel('Loss')\n",
        "plt.legend()\n",
        "plt.show()"
      ],
      "execution_count": 20,
      "outputs": [
        {
          "output_type": "error",
          "ename": "NameError",
          "evalue": "name 'plt' is not defined",
          "traceback": [
            "\u001b[1;31m---------------------------------------------------------------------------\u001b[0m",
            "\u001b[1;31mNameError\u001b[0m                                 Traceback (most recent call last)",
            "\u001b[1;32m<ipython-input-20-6c8e05e22e25>\u001b[0m in \u001b[0;36m<module>\u001b[1;34m\u001b[0m\n\u001b[0;32m      2\u001b[0m \u001b[0mval_loss\u001b[0m \u001b[1;33m=\u001b[0m \u001b[0mhistory\u001b[0m\u001b[1;33m.\u001b[0m\u001b[0mhistory\u001b[0m\u001b[1;33m[\u001b[0m\u001b[1;34m'val_loss'\u001b[0m\u001b[1;33m]\u001b[0m\u001b[1;33m\u001b[0m\u001b[1;33m\u001b[0m\u001b[0m\n\u001b[0;32m      3\u001b[0m \u001b[0mepochs\u001b[0m \u001b[1;33m=\u001b[0m \u001b[0mrange\u001b[0m\u001b[1;33m(\u001b[0m\u001b[1;36m1\u001b[0m\u001b[1;33m,\u001b[0m \u001b[0mlen\u001b[0m\u001b[1;33m(\u001b[0m\u001b[0mloss\u001b[0m\u001b[1;33m)\u001b[0m \u001b[1;33m+\u001b[0m \u001b[1;36m1\u001b[0m\u001b[1;33m)\u001b[0m\u001b[1;33m\u001b[0m\u001b[1;33m\u001b[0m\u001b[0m\n\u001b[1;32m----> 4\u001b[1;33m \u001b[0mplt\u001b[0m\u001b[1;33m.\u001b[0m\u001b[0mplot\u001b[0m\u001b[1;33m(\u001b[0m\u001b[0mepochs\u001b[0m\u001b[1;33m,\u001b[0m \u001b[0mloss\u001b[0m\u001b[1;33m,\u001b[0m \u001b[1;34m'bo'\u001b[0m\u001b[1;33m,\u001b[0m \u001b[0mlabel\u001b[0m\u001b[1;33m=\u001b[0m\u001b[1;34m'Training loss'\u001b[0m\u001b[1;33m)\u001b[0m\u001b[1;33m\u001b[0m\u001b[1;33m\u001b[0m\u001b[0m\n\u001b[0m\u001b[0;32m      5\u001b[0m \u001b[0mplt\u001b[0m\u001b[1;33m.\u001b[0m\u001b[0mplot\u001b[0m\u001b[1;33m(\u001b[0m\u001b[0mepochs\u001b[0m\u001b[1;33m,\u001b[0m \u001b[0mval_loss\u001b[0m\u001b[1;33m,\u001b[0m \u001b[1;34m'b'\u001b[0m\u001b[1;33m,\u001b[0m \u001b[0mlabel\u001b[0m\u001b[1;33m=\u001b[0m\u001b[1;34m'Validation loss'\u001b[0m\u001b[1;33m)\u001b[0m\u001b[1;33m\u001b[0m\u001b[1;33m\u001b[0m\u001b[0m\n\u001b[0;32m      6\u001b[0m \u001b[0mplt\u001b[0m\u001b[1;33m.\u001b[0m\u001b[0mtitle\u001b[0m\u001b[1;33m(\u001b[0m\u001b[1;34m'Training and validation loss'\u001b[0m\u001b[1;33m)\u001b[0m\u001b[1;33m\u001b[0m\u001b[1;33m\u001b[0m\u001b[0m\n",
            "\u001b[1;31mNameError\u001b[0m: name 'plt' is not defined"
          ]
        }
      ]
    },
    {
      "cell_type": "code",
      "metadata": {
        "colab": {
          "base_uri": "https://localhost:8080/",
          "height": 295
        },
        "id": "pUTX0xrthjNl",
        "outputId": "34ef8aeb-96e8-41f3-c987-5eb14098b134"
      },
      "source": [
        "plt.clf()\n",
        "mae = history.history['mae']\n",
        "val_mae = history.history['val_mae']\n",
        "plt.plot(epochs, mae, 'bo', label='Training mae')\n",
        "plt.plot(epochs, val_mae, 'b', label='Validation mae')\n",
        "plt.title('Training and validation accuracy')\n",
        "plt.xlabel('Epochs')\n",
        "plt.ylabel('Loss')\n",
        "plt.legend()\n",
        "plt.show()"
      ],
      "execution_count": 106,
      "outputs": [
        {
          "output_type": "display_data",
          "data": {
            "image/png": "[encoded data removed]",
            "text/plain": [
              "<Figure size 432x288 with 1 Axes>"
            ]
          },
          "metadata": {
            "tags": [],
            "needs_background": "light"
          }
        }
      ]
    },
    {
      "cell_type": "markdown",
      "metadata": {
        "id": "_js55Fv0gzG6"
      },
      "source": [
        "##Evaluation Step\n",
        "\n"
      ]
    },
    {
      "cell_type": "code",
      "metadata": {
        "colab": {
          "base_uri": "https://localhost:8080/"
        },
        "id": "2WLA1MkUcoNW",
        "outputId": "1e1ab7c6-b449-4fd4-cca3-f37c53671715"
      },
      "source": [
        "x = network.evaluate(test_data, test_targets)"
      ],
      "execution_count": 65,
      "outputs": [
        {
          "output_type": "stream",
          "name": "stdout",
          "text": [
            "10/10 [==============================] - 0s 1ms/step - loss: 0.2249 - mae: 0.3443\n"
          ]
        }
      ]
    },
    {
      "cell_type": "markdown",
      "metadata": {
        "id": "8BBSJ7v3g3SH"
      },
      "source": [
        "##Prediction"
      ]
    },
    {
      "cell_type": "code",
      "metadata": {
        "id": "TMkD_KG2dDxe"
      },
      "source": [
        "all_predict = network.predict(test_data)"
      ],
      "execution_count": 93,
      "outputs": []
    },
    {
      "cell_type": "code",
      "metadata": {
        "colab": {
          "base_uri": "https://localhost:8080/"
        },
        "id": "QWD8r9Q6eAa-",
        "outputId": "5f611558-14a5-405b-b2de-83b431f6e406"
      },
      "source": [
        "print(all_predict[-2] * stndrd_trgts + mean_trgts)\n",
        "print(test_targets.iloc[-2] * stndrd_trgts + mean_trgts)"
      ],
      "execution_count": 96,
      "outputs": [
        {
          "output_type": "stream",
          "text": [
            "[36.4701]\n",
            "37.92\n"
          ],
          "name": "stdout"
        }
      ]
    },
    {
      "cell_type": "code",
      "metadata": {
        "id": "FXE8PUvveSAp"
      },
      "source": [],
      "execution_count": null,
      "outputs": []
    }
  ]
}